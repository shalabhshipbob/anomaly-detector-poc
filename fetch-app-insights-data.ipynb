{
 "cells": [
  {
   "cell_type": "markdown",
   "id": "41686969",
   "metadata": {},
   "source": [
    "# Fetch query data from App Insights\n",
    "\n",
    "Sample query to fetch successful syncs per minute in past 15 minutes -\n",
    "```\n",
    "customEvents\n",
    "| where timestamp > ago(15m) and name == \"Pandium sync success\"\n",
    "| project timestamp\n",
    "| summarize syncCount=count() by format_datetime(timestamp, \"dd/MM/yy hh:mm\")\n",
    "| order by timestamp asc, syncCount desc\n",
    "```\n",
    "\n",
    "This query can be converted to a cURL request using [Microsoft's API Explorer](https://dev.applicationinsights.io/apiexplorer/query).\n",
    "\n",
    "**Prerequisites** -\n",
    "* App Id from azure portal.\n",
    "* Api key from azure portal.\n",
    "\n",
    "*More information can be found at [AppInsights API Quickstart](https://dev.applicationinsights.io/quickstart).*"
   ]
  },
  {
   "cell_type": "code",
   "execution_count": null,
   "id": "46953a88",
   "metadata": {},
   "outputs": [],
   "source": [
    "apikey = '<API Key from Azure Portal>'\n",
    "appid = '<App Id of resource>' # Ex. AppInsightsProd"
   ]
  },
  {
   "cell_type": "code",
   "execution_count": null,
   "id": "7414c3f2",
   "metadata": {
    "scrolled": true
   },
   "outputs": [],
   "source": [
    "import requests\n",
    "import json"
   ]
  },
  {
   "cell_type": "code",
   "execution_count": null,
   "id": "a642176c",
   "metadata": {},
   "outputs": [],
   "source": [
    "# genric url format -\n",
    "# GET /v1/apps/{app-id}/query?query=requests | where timestamp >= ago(24h) | count\n",
    "url = f'https://api.applicationinsights.io/v1/apps/{appid}/query?query=customEvents%7C%20where%20timestamp%20%3E%20ago(15m)%20and%20name%20%3D%3D%20%22Pandium%20sync%20success%22%7C%20project%20timestamp%7C%20summarize%20syncCount%3Dcount()%20by%20format_datetime(timestamp%2C%20%22dd%2FMM%2Fyy%20hh%3Amm%22)%7C%20order%20by%20timestamp%20asc%2C%20syncCount%20desc'\n",
    "\n",
    "headers = {'Content-Type': 'application/json', 'x-api-key': apikey}\n",
    "response = requests.get(url, headers=headers)\n",
    "json_result = json.loads(response.content.decode(\"utf-8\"))\n",
    "formatted_json_result = json.dumps(json_result, indent=4)\n",
    "\n",
    "print(formatted_json_result)"
   ]
  }
 ],
 "metadata": {
  "kernelspec": {
   "display_name": "Python 3 (ipykernel)",
   "language": "python",
   "name": "python3"
  },
  "language_info": {
   "codemirror_mode": {
    "name": "ipython",
    "version": 3
   },
   "file_extension": ".py",
   "mimetype": "text/x-python",
   "name": "python",
   "nbconvert_exporter": "python",
   "pygments_lexer": "ipython3",
   "version": "3.9.2"
  }
 },
 "nbformat": 4,
 "nbformat_minor": 5
}
